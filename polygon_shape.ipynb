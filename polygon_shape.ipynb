{
  "nbformat": 4,
  "nbformat_minor": 0,
  "metadata": {
    "colab": {
      "provenance": [],
      "gpuType": "T4",
      "authorship_tag": "ABX9TyOf4p3S6CYw8t2s/YnoMW5n",
      "include_colab_link": true
    },
    "kernelspec": {
      "name": "python3",
      "display_name": "Python 3"
    },
    "language_info": {
      "name": "python"
    },
    "accelerator": "GPU"
  },
  "cells": [
    {
      "cell_type": "markdown",
      "metadata": {
        "id": "view-in-github",
        "colab_type": "text"
      },
      "source": [
        "<a href=\"https://colab.research.google.com/github/ajaytelukutla19/polygon_project/blob/main/polygon_shape.ipynb\" target=\"_parent\"><img src=\"https://colab.research.google.com/assets/colab-badge.svg\" alt=\"Open In Colab\"/></a>"
      ]
    },
    {
      "cell_type": "code",
      "execution_count": 1,
      "metadata": {
        "colab": {
          "base_uri": "https://localhost:8080/"
        },
        "id": "8yR4gyFxPTmj",
        "outputId": "b331c8ef-9d1a-4cbd-9397-a39ad8d22796"
      },
      "outputs": [
        {
          "output_type": "stream",
          "name": "stdout",
          "text": [
            "Tue Aug  5 17:18:58 2025       \n",
            "+-----------------------------------------------------------------------------------------+\n",
            "| NVIDIA-SMI 550.54.15              Driver Version: 550.54.15      CUDA Version: 12.4     |\n",
            "|-----------------------------------------+------------------------+----------------------+\n",
            "| GPU  Name                 Persistence-M | Bus-Id          Disp.A | Volatile Uncorr. ECC |\n",
            "| Fan  Temp   Perf          Pwr:Usage/Cap |           Memory-Usage | GPU-Util  Compute M. |\n",
            "|                                         |                        |               MIG M. |\n",
            "|=========================================+========================+======================|\n",
            "|   0  Tesla T4                       Off |   00000000:00:04.0 Off |                    0 |\n",
            "| N/A   39C    P8              9W /   70W |       0MiB /  15360MiB |      0%      Default |\n",
            "|                                         |                        |                  N/A |\n",
            "+-----------------------------------------+------------------------+----------------------+\n",
            "                                                                                         \n",
            "+-----------------------------------------------------------------------------------------+\n",
            "| Processes:                                                                              |\n",
            "|  GPU   GI   CI        PID   Type   Process name                              GPU Memory |\n",
            "|        ID   ID                                                               Usage      |\n",
            "|=========================================================================================|\n",
            "|  No running processes found                                                             |\n",
            "+-----------------------------------------------------------------------------------------+\n",
            "Requirement already satisfied: torch in /usr/local/lib/python3.11/dist-packages (2.6.0+cu124)\n",
            "Requirement already satisfied: torchvision in /usr/local/lib/python3.11/dist-packages (0.21.0+cu124)\n",
            "Requirement already satisfied: filelock in /usr/local/lib/python3.11/dist-packages (from torch) (3.18.0)\n",
            "Requirement already satisfied: typing-extensions>=4.10.0 in /usr/local/lib/python3.11/dist-packages (from torch) (4.14.1)\n",
            "Requirement already satisfied: networkx in /usr/local/lib/python3.11/dist-packages (from torch) (3.5)\n",
            "Requirement already satisfied: jinja2 in /usr/local/lib/python3.11/dist-packages (from torch) (3.1.6)\n",
            "Requirement already satisfied: fsspec in /usr/local/lib/python3.11/dist-packages (from torch) (2025.3.0)\n",
            "Collecting nvidia-cuda-nvrtc-cu12==12.4.127 (from torch)\n",
            "  Downloading nvidia_cuda_nvrtc_cu12-12.4.127-py3-none-manylinux2014_x86_64.whl.metadata (1.5 kB)\n",
            "Collecting nvidia-cuda-runtime-cu12==12.4.127 (from torch)\n",
            "  Downloading nvidia_cuda_runtime_cu12-12.4.127-py3-none-manylinux2014_x86_64.whl.metadata (1.5 kB)\n",
            "Collecting nvidia-cuda-cupti-cu12==12.4.127 (from torch)\n",
            "  Downloading nvidia_cuda_cupti_cu12-12.4.127-py3-none-manylinux2014_x86_64.whl.metadata (1.6 kB)\n",
            "Collecting nvidia-cudnn-cu12==9.1.0.70 (from torch)\n",
            "  Downloading nvidia_cudnn_cu12-9.1.0.70-py3-none-manylinux2014_x86_64.whl.metadata (1.6 kB)\n",
            "Collecting nvidia-cublas-cu12==12.4.5.8 (from torch)\n",
            "  Downloading nvidia_cublas_cu12-12.4.5.8-py3-none-manylinux2014_x86_64.whl.metadata (1.5 kB)\n",
            "Collecting nvidia-cufft-cu12==11.2.1.3 (from torch)\n",
            "  Downloading nvidia_cufft_cu12-11.2.1.3-py3-none-manylinux2014_x86_64.whl.metadata (1.5 kB)\n",
            "Collecting nvidia-curand-cu12==10.3.5.147 (from torch)\n",
            "  Downloading nvidia_curand_cu12-10.3.5.147-py3-none-manylinux2014_x86_64.whl.metadata (1.5 kB)\n",
            "Collecting nvidia-cusolver-cu12==11.6.1.9 (from torch)\n",
            "  Downloading nvidia_cusolver_cu12-11.6.1.9-py3-none-manylinux2014_x86_64.whl.metadata (1.6 kB)\n",
            "Collecting nvidia-cusparse-cu12==12.3.1.170 (from torch)\n",
            "  Downloading nvidia_cusparse_cu12-12.3.1.170-py3-none-manylinux2014_x86_64.whl.metadata (1.6 kB)\n",
            "Requirement already satisfied: nvidia-cusparselt-cu12==0.6.2 in /usr/local/lib/python3.11/dist-packages (from torch) (0.6.2)\n",
            "Requirement already satisfied: nvidia-nccl-cu12==2.21.5 in /usr/local/lib/python3.11/dist-packages (from torch) (2.21.5)\n",
            "Requirement already satisfied: nvidia-nvtx-cu12==12.4.127 in /usr/local/lib/python3.11/dist-packages (from torch) (12.4.127)\n",
            "Collecting nvidia-nvjitlink-cu12==12.4.127 (from torch)\n",
            "  Downloading nvidia_nvjitlink_cu12-12.4.127-py3-none-manylinux2014_x86_64.whl.metadata (1.5 kB)\n",
            "Requirement already satisfied: triton==3.2.0 in /usr/local/lib/python3.11/dist-packages (from torch) (3.2.0)\n",
            "Requirement already satisfied: sympy==1.13.1 in /usr/local/lib/python3.11/dist-packages (from torch) (1.13.1)\n",
            "Requirement already satisfied: mpmath<1.4,>=1.1.0 in /usr/local/lib/python3.11/dist-packages (from sympy==1.13.1->torch) (1.3.0)\n",
            "Requirement already satisfied: numpy in /usr/local/lib/python3.11/dist-packages (from torchvision) (2.0.2)\n",
            "Requirement already satisfied: pillow!=8.3.*,>=5.3.0 in /usr/local/lib/python3.11/dist-packages (from torchvision) (11.3.0)\n",
            "Requirement already satisfied: MarkupSafe>=2.0 in /usr/local/lib/python3.11/dist-packages (from jinja2->torch) (3.0.2)\n",
            "Downloading nvidia_cublas_cu12-12.4.5.8-py3-none-manylinux2014_x86_64.whl (363.4 MB)\n",
            "\u001b[2K   \u001b[90m━━━━━━━━━━━━━━━━━━━━━━━━━━━━━━━━━━━━━━━━\u001b[0m \u001b[32m363.4/363.4 MB\u001b[0m \u001b[31m3.7 MB/s\u001b[0m eta \u001b[36m0:00:00\u001b[0m\n",
            "\u001b[?25hDownloading nvidia_cuda_cupti_cu12-12.4.127-py3-none-manylinux2014_x86_64.whl (13.8 MB)\n",
            "\u001b[2K   \u001b[90m━━━━━━━━━━━━━━━━━━━━━━━━━━━━━━━━━━━━━━━━\u001b[0m \u001b[32m13.8/13.8 MB\u001b[0m \u001b[31m97.0 MB/s\u001b[0m eta \u001b[36m0:00:00\u001b[0m\n",
            "\u001b[?25hDownloading nvidia_cuda_nvrtc_cu12-12.4.127-py3-none-manylinux2014_x86_64.whl (24.6 MB)\n",
            "\u001b[2K   \u001b[90m━━━━━━━━━━━━━━━━━━━━━━━━━━━━━━━━━━━━━━━━\u001b[0m \u001b[32m24.6/24.6 MB\u001b[0m \u001b[31m95.5 MB/s\u001b[0m eta \u001b[36m0:00:00\u001b[0m\n",
            "\u001b[?25hDownloading nvidia_cuda_runtime_cu12-12.4.127-py3-none-manylinux2014_x86_64.whl (883 kB)\n",
            "\u001b[2K   \u001b[90m━━━━━━━━━━━━━━━━━━━━━━━━━━━━━━━━━━━━━━━━\u001b[0m \u001b[32m883.7/883.7 kB\u001b[0m \u001b[31m58.8 MB/s\u001b[0m eta \u001b[36m0:00:00\u001b[0m\n",
            "\u001b[?25hDownloading nvidia_cudnn_cu12-9.1.0.70-py3-none-manylinux2014_x86_64.whl (664.8 MB)\n",
            "\u001b[2K   \u001b[90m━━━━━━━━━━━━━━━━━━━━━━━━━━━━━━━━━━━━━━━━\u001b[0m \u001b[32m664.8/664.8 MB\u001b[0m \u001b[31m2.7 MB/s\u001b[0m eta \u001b[36m0:00:00\u001b[0m\n",
            "\u001b[?25hDownloading nvidia_cufft_cu12-11.2.1.3-py3-none-manylinux2014_x86_64.whl (211.5 MB)\n",
            "\u001b[2K   \u001b[90m━━━━━━━━━━━━━━━━━━━━━━━━━━━━━━━━━━━━━━━━\u001b[0m \u001b[32m211.5/211.5 MB\u001b[0m \u001b[31m5.5 MB/s\u001b[0m eta \u001b[36m0:00:00\u001b[0m\n",
            "\u001b[?25hDownloading nvidia_curand_cu12-10.3.5.147-py3-none-manylinux2014_x86_64.whl (56.3 MB)\n",
            "\u001b[2K   \u001b[90m━━━━━━━━━━━━━━━━━━━━━━━━━━━━━━━━━━━━━━━━\u001b[0m \u001b[32m56.3/56.3 MB\u001b[0m \u001b[31m13.3 MB/s\u001b[0m eta \u001b[36m0:00:00\u001b[0m\n",
            "\u001b[?25hDownloading nvidia_cusolver_cu12-11.6.1.9-py3-none-manylinux2014_x86_64.whl (127.9 MB)\n",
            "\u001b[2K   \u001b[90m━━━━━━━━━━━━━━━━━━━━━━━━━━━━━━━━━━━━━━━━\u001b[0m \u001b[32m127.9/127.9 MB\u001b[0m \u001b[31m7.4 MB/s\u001b[0m eta \u001b[36m0:00:00\u001b[0m\n",
            "\u001b[?25hDownloading nvidia_cusparse_cu12-12.3.1.170-py3-none-manylinux2014_x86_64.whl (207.5 MB)\n",
            "\u001b[2K   \u001b[90m━━━━━━━━━━━━━━━━━━━━━━━━━━━━━━━━━━━━━━━━\u001b[0m \u001b[32m207.5/207.5 MB\u001b[0m \u001b[31m5.4 MB/s\u001b[0m eta \u001b[36m0:00:00\u001b[0m\n",
            "\u001b[?25hDownloading nvidia_nvjitlink_cu12-12.4.127-py3-none-manylinux2014_x86_64.whl (21.1 MB)\n",
            "\u001b[2K   \u001b[90m━━━━━━━━━━━━━━━━━━━━━━━━━━━━━━━━━━━━━━━━\u001b[0m \u001b[32m21.1/21.1 MB\u001b[0m \u001b[31m82.2 MB/s\u001b[0m eta \u001b[36m0:00:00\u001b[0m\n",
            "\u001b[?25hInstalling collected packages: nvidia-nvjitlink-cu12, nvidia-curand-cu12, nvidia-cufft-cu12, nvidia-cuda-runtime-cu12, nvidia-cuda-nvrtc-cu12, nvidia-cuda-cupti-cu12, nvidia-cublas-cu12, nvidia-cusparse-cu12, nvidia-cudnn-cu12, nvidia-cusolver-cu12\n",
            "  Attempting uninstall: nvidia-nvjitlink-cu12\n",
            "    Found existing installation: nvidia-nvjitlink-cu12 12.5.82\n",
            "    Uninstalling nvidia-nvjitlink-cu12-12.5.82:\n",
            "      Successfully uninstalled nvidia-nvjitlink-cu12-12.5.82\n",
            "  Attempting uninstall: nvidia-curand-cu12\n",
            "    Found existing installation: nvidia-curand-cu12 10.3.6.82\n",
            "    Uninstalling nvidia-curand-cu12-10.3.6.82:\n",
            "      Successfully uninstalled nvidia-curand-cu12-10.3.6.82\n",
            "  Attempting uninstall: nvidia-cufft-cu12\n",
            "    Found existing installation: nvidia-cufft-cu12 11.2.3.61\n",
            "    Uninstalling nvidia-cufft-cu12-11.2.3.61:\n",
            "      Successfully uninstalled nvidia-cufft-cu12-11.2.3.61\n",
            "  Attempting uninstall: nvidia-cuda-runtime-cu12\n",
            "    Found existing installation: nvidia-cuda-runtime-cu12 12.5.82\n",
            "    Uninstalling nvidia-cuda-runtime-cu12-12.5.82:\n",
            "      Successfully uninstalled nvidia-cuda-runtime-cu12-12.5.82\n",
            "  Attempting uninstall: nvidia-cuda-nvrtc-cu12\n",
            "    Found existing installation: nvidia-cuda-nvrtc-cu12 12.5.82\n",
            "    Uninstalling nvidia-cuda-nvrtc-cu12-12.5.82:\n",
            "      Successfully uninstalled nvidia-cuda-nvrtc-cu12-12.5.82\n",
            "  Attempting uninstall: nvidia-cuda-cupti-cu12\n",
            "    Found existing installation: nvidia-cuda-cupti-cu12 12.5.82\n",
            "    Uninstalling nvidia-cuda-cupti-cu12-12.5.82:\n",
            "      Successfully uninstalled nvidia-cuda-cupti-cu12-12.5.82\n",
            "  Attempting uninstall: nvidia-cublas-cu12\n",
            "    Found existing installation: nvidia-cublas-cu12 12.5.3.2\n",
            "    Uninstalling nvidia-cublas-cu12-12.5.3.2:\n",
            "      Successfully uninstalled nvidia-cublas-cu12-12.5.3.2\n",
            "  Attempting uninstall: nvidia-cusparse-cu12\n",
            "    Found existing installation: nvidia-cusparse-cu12 12.5.1.3\n",
            "    Uninstalling nvidia-cusparse-cu12-12.5.1.3:\n",
            "      Successfully uninstalled nvidia-cusparse-cu12-12.5.1.3\n",
            "  Attempting uninstall: nvidia-cudnn-cu12\n",
            "    Found existing installation: nvidia-cudnn-cu12 9.3.0.75\n",
            "    Uninstalling nvidia-cudnn-cu12-9.3.0.75:\n",
            "      Successfully uninstalled nvidia-cudnn-cu12-9.3.0.75\n",
            "  Attempting uninstall: nvidia-cusolver-cu12\n",
            "    Found existing installation: nvidia-cusolver-cu12 11.6.3.83\n",
            "    Uninstalling nvidia-cusolver-cu12-11.6.3.83:\n",
            "      Successfully uninstalled nvidia-cusolver-cu12-11.6.3.83\n",
            "Successfully installed nvidia-cublas-cu12-12.4.5.8 nvidia-cuda-cupti-cu12-12.4.127 nvidia-cuda-nvrtc-cu12-12.4.127 nvidia-cuda-runtime-cu12-12.4.127 nvidia-cudnn-cu12-9.1.0.70 nvidia-cufft-cu12-11.2.1.3 nvidia-curand-cu12-10.3.5.147 nvidia-cusolver-cu12-11.6.1.9 nvidia-cusparse-cu12-12.3.1.170 nvidia-nvjitlink-cu12-12.4.127\n",
            "Requirement already satisfied: wandb in /usr/local/lib/python3.11/dist-packages (0.21.0)\n",
            "Requirement already satisfied: click!=8.0.0,>=7.1 in /usr/local/lib/python3.11/dist-packages (from wandb) (8.2.1)\n",
            "Requirement already satisfied: gitpython!=3.1.29,>=1.0.0 in /usr/local/lib/python3.11/dist-packages (from wandb) (3.1.45)\n",
            "Requirement already satisfied: packaging in /usr/local/lib/python3.11/dist-packages (from wandb) (25.0)\n",
            "Requirement already satisfied: platformdirs in /usr/local/lib/python3.11/dist-packages (from wandb) (4.3.8)\n",
            "Requirement already satisfied: protobuf!=4.21.0,!=5.28.0,<7,>=3.19.0 in /usr/local/lib/python3.11/dist-packages (from wandb) (5.29.5)\n",
            "Requirement already satisfied: pydantic<3 in /usr/local/lib/python3.11/dist-packages (from wandb) (2.11.7)\n",
            "Requirement already satisfied: pyyaml in /usr/local/lib/python3.11/dist-packages (from wandb) (6.0.2)\n",
            "Requirement already satisfied: requests<3,>=2.0.0 in /usr/local/lib/python3.11/dist-packages (from wandb) (2.32.3)\n",
            "Requirement already satisfied: sentry-sdk>=2.0.0 in /usr/local/lib/python3.11/dist-packages (from wandb) (2.33.2)\n",
            "Requirement already satisfied: typing-extensions<5,>=4.8 in /usr/local/lib/python3.11/dist-packages (from wandb) (4.14.1)\n",
            "Requirement already satisfied: gitdb<5,>=4.0.1 in /usr/local/lib/python3.11/dist-packages (from gitpython!=3.1.29,>=1.0.0->wandb) (4.0.12)\n",
            "Requirement already satisfied: annotated-types>=0.6.0 in /usr/local/lib/python3.11/dist-packages (from pydantic<3->wandb) (0.7.0)\n",
            "Requirement already satisfied: pydantic-core==2.33.2 in /usr/local/lib/python3.11/dist-packages (from pydantic<3->wandb) (2.33.2)\n",
            "Requirement already satisfied: typing-inspection>=0.4.0 in /usr/local/lib/python3.11/dist-packages (from pydantic<3->wandb) (0.4.1)\n",
            "Requirement already satisfied: charset-normalizer<4,>=2 in /usr/local/lib/python3.11/dist-packages (from requests<3,>=2.0.0->wandb) (3.4.2)\n",
            "Requirement already satisfied: idna<4,>=2.5 in /usr/local/lib/python3.11/dist-packages (from requests<3,>=2.0.0->wandb) (3.10)\n",
            "Requirement already satisfied: urllib3<3,>=1.21.1 in /usr/local/lib/python3.11/dist-packages (from requests<3,>=2.0.0->wandb) (2.5.0)\n",
            "Requirement already satisfied: certifi>=2017.4.17 in /usr/local/lib/python3.11/dist-packages (from requests<3,>=2.0.0->wandb) (2025.7.14)\n",
            "Requirement already satisfied: smmap<6,>=3.0.1 in /usr/local/lib/python3.11/dist-packages (from gitdb<5,>=4.0.1->gitpython!=3.1.29,>=1.0.0->wandb) (5.0.2)\n"
          ]
        }
      ],
      "source": [
        "# Check for GPU availability\n",
        "!nvidia-smi\n",
        "\n",
        "# Install necessary libraries for deep learning and experiment tracking\n",
        "!pip install torch torchvision\n",
        "!pip install wandb\n",
        "\n"
      ]
    },
    {
      "cell_type": "code",
      "source": [
        "# Mount Google Drive to access your dataset.\n",
        "# You will be prompted to authorize this connection.\n",
        "from google.colab import drive\n",
        "drive.mount('/content/drive', force_remount=True)\n",
        "\n",
        "# Verify the path to your dataset folder on Google Drive.\n",
        "# Replace 'MyProject/dataset' with the actual path to your 'dataset' folder.\n",
        "dataset_drive_path = '/content/drive/MyDrive/dataset'\n",
        "\n",
        "# We'll create a symbolic link for convenience so the rest of the code works as-is.\n",
        "!ln -s \"{dataset_drive_path}\" /content/dataset\n",
        "\n",
        "# Verify the folder structure to ensure the path is correct\n",
        "!ls /content/dataset/training/\n",
        "!ls /content/dataset/validation/"
      ],
      "metadata": {
        "colab": {
          "base_uri": "https://localhost:8080/"
        },
        "id": "ks9ZGgItQCLA",
        "outputId": "6a111af4-5ee1-41b8-9476-bb0fecb57d7b"
      },
      "execution_count": 2,
      "outputs": [
        {
          "output_type": "stream",
          "name": "stdout",
          "text": [
            "Mounted at /content/drive\n",
            "data.json  inputs  outputs\n",
            "data.json  inputs  outputs\n"
          ]
        }
      ]
    },
    {
      "cell_type": "code",
      "source": [
        "import os\n",
        "import json\n",
        "import torch\n",
        "import torch.nn as nn\n",
        "import torch.optim as optim\n",
        "from torch.utils.data import Dataset, DataLoader\n",
        "from torchvision import transforms\n",
        "from PIL import Image\n",
        "import wandb\n",
        "\n",
        "# --- Configuration ---\n",
        "# Define your hyperparameters here.\n",
        "config = {\n",
        "    \"learning_rate\": 0.001,\n",
        "    \"batch_size\": 32,\n",
        "    \"epochs\": 100,\n",
        "    \"image_size\": (128, 128),\n",
        "    \"in_channels\": 3,\n",
        "    \"out_channels\": 3,\n",
        "    \"features\": [64, 128, 256, 512],\n",
        "    \"device\": \"cuda\" if torch.cuda.is_available() else \"cpu\"\n",
        "}\n",
        "\n",
        "# Initialize wandb for this training run.\n",
        "wandb.init(project=\"polygon-coloring-unet\", config=config)\n",
        "print(f\"Using device: {config['device']}\")"
      ],
      "metadata": {
        "colab": {
          "base_uri": "https://localhost:8080/",
          "height": 277
        },
        "id": "0Gho87NuQVkP",
        "outputId": "adc40214-f69d-4aa9-aca8-57df86868e10"
      },
      "execution_count": 3,
      "outputs": [
        {
          "output_type": "display_data",
          "data": {
            "text/plain": [
              "<IPython.core.display.Javascript object>"
            ],
            "application/javascript": [
              "\n",
              "        window._wandbApiKey = new Promise((resolve, reject) => {\n",
              "            function loadScript(url) {\n",
              "            return new Promise(function(resolve, reject) {\n",
              "                let newScript = document.createElement(\"script\");\n",
              "                newScript.onerror = reject;\n",
              "                newScript.onload = resolve;\n",
              "                document.body.appendChild(newScript);\n",
              "                newScript.src = url;\n",
              "            });\n",
              "            }\n",
              "            loadScript(\"https://cdn.jsdelivr.net/npm/postmate/build/postmate.min.js\").then(() => {\n",
              "            const iframe = document.createElement('iframe')\n",
              "            iframe.style.cssText = \"width:0;height:0;border:none\"\n",
              "            document.body.appendChild(iframe)\n",
              "            const handshake = new Postmate({\n",
              "                container: iframe,\n",
              "                url: 'https://wandb.ai/authorize'\n",
              "            });\n",
              "            const timeout = setTimeout(() => reject(\"Couldn't auto authenticate\"), 5000)\n",
              "            handshake.then(function(child) {\n",
              "                child.on('authorize', data => {\n",
              "                    clearTimeout(timeout)\n",
              "                    resolve(data)\n",
              "                });\n",
              "            });\n",
              "            })\n",
              "        });\n",
              "    "
            ]
          },
          "metadata": {}
        },
        {
          "output_type": "stream",
          "name": "stderr",
          "text": [
            "\u001b[34m\u001b[1mwandb\u001b[0m: Logging into wandb.ai. (Learn how to deploy a W&B server locally: https://wandb.me/wandb-server)\n",
            "\u001b[34m\u001b[1mwandb\u001b[0m: You can find your API key in your browser here: https://wandb.ai/authorize?ref=models\n",
            "wandb: Paste an API key from your profile and hit enter:"
          ]
        },
        {
          "name": "stdout",
          "output_type": "stream",
          "text": [
            " ··········\n"
          ]
        },
        {
          "output_type": "stream",
          "name": "stderr",
          "text": [
            "\u001b[34m\u001b[1mwandb\u001b[0m: \u001b[33mWARNING\u001b[0m If you're specifying your api key in code, ensure this code is not shared publicly.\n",
            "\u001b[34m\u001b[1mwandb\u001b[0m: \u001b[33mWARNING\u001b[0m Consider setting the WANDB_API_KEY environment variable, or running `wandb login` from the command line.\n",
            "\u001b[34m\u001b[1mwandb\u001b[0m: No netrc file found, creating one.\n",
            "\u001b[34m\u001b[1mwandb\u001b[0m: Appending key for api.wandb.ai to your netrc file: /root/.netrc\n",
            "\u001b[34m\u001b[1mwandb\u001b[0m: Currently logged in as: \u001b[33majaytelukutla4583\u001b[0m (\u001b[33majaytelukutla4583-vignan-s-university\u001b[0m) to \u001b[32mhttps://api.wandb.ai\u001b[0m. Use \u001b[1m`wandb login --relogin`\u001b[0m to force relogin\n"
          ]
        },
        {
          "output_type": "display_data",
          "data": {
            "text/plain": [
              "<IPython.core.display.HTML object>"
            ],
            "text/html": [
              "Tracking run with wandb version 0.21.0"
            ]
          },
          "metadata": {}
        },
        {
          "output_type": "display_data",
          "data": {
            "text/plain": [
              "<IPython.core.display.HTML object>"
            ],
            "text/html": [
              "Run data is saved locally in <code>/content/wandb/run-20250805_172258-p4ja9843</code>"
            ]
          },
          "metadata": {}
        },
        {
          "output_type": "display_data",
          "data": {
            "text/plain": [
              "<IPython.core.display.HTML object>"
            ],
            "text/html": [
              "Syncing run <strong><a href='https://wandb.ai/ajaytelukutla4583-vignan-s-university/polygon-coloring-unet/runs/p4ja9843' target=\"_blank\">silvery-lake-1</a></strong> to <a href='https://wandb.ai/ajaytelukutla4583-vignan-s-university/polygon-coloring-unet' target=\"_blank\">Weights & Biases</a> (<a href='https://wandb.me/developer-guide' target=\"_blank\">docs</a>)<br>"
            ]
          },
          "metadata": {}
        },
        {
          "output_type": "display_data",
          "data": {
            "text/plain": [
              "<IPython.core.display.HTML object>"
            ],
            "text/html": [
              " View project at <a href='https://wandb.ai/ajaytelukutla4583-vignan-s-university/polygon-coloring-unet' target=\"_blank\">https://wandb.ai/ajaytelukutla4583-vignan-s-university/polygon-coloring-unet</a>"
            ]
          },
          "metadata": {}
        },
        {
          "output_type": "display_data",
          "data": {
            "text/plain": [
              "<IPython.core.display.HTML object>"
            ],
            "text/html": [
              " View run at <a href='https://wandb.ai/ajaytelukutla4583-vignan-s-university/polygon-coloring-unet/runs/p4ja9843' target=\"_blank\">https://wandb.ai/ajaytelukutla4583-vignan-s-university/polygon-coloring-unet/runs/p4ja9843</a>"
            ]
          },
          "metadata": {}
        },
        {
          "output_type": "stream",
          "name": "stdout",
          "text": [
            "Using device: cuda\n"
          ]
        }
      ]
    },
    {
      "cell_type": "code",
      "source": [
        "# --- Dataset Class ---\n",
        "class PolygonColoringDataset(Dataset):\n",
        "    def __init__(self, data_root, json_file_path, all_colors=None, transform=None):\n",
        "        self.data_root = data_root\n",
        "        self.transform = transform\n",
        "\n",
        "        with open(json_file_path, 'r') as f:\n",
        "            self.data = json.load(f)\n",
        "\n",
        "        # If no color list is provided, derive it from the current dataset\n",
        "        if all_colors is None:\n",
        "            all_colors = sorted(list(set(item['colour'] for item in self.data)))\n",
        "\n",
        "        self.color_to_idx = {color: i for i, color in enumerate(all_colors)}\n",
        "        self.num_colors = len(all_colors)\n",
        "\n",
        "    def __len__(self):\n",
        "        return len(self.data)\n",
        "\n",
        "    def __getitem__(self, idx):\n",
        "        item = self.data[idx]\n",
        "\n",
        "        input_image_path = os.path.join(self.data_root, 'inputs', item['input_polygon'])\n",
        "        output_image_path = os.path.join(self.data_root, 'outputs', item['output_image'])\n",
        "\n",
        "        input_image = Image.open(input_image_path).convert('RGB')\n",
        "        output_image = Image.open(output_image_path).convert('RGB')\n",
        "\n",
        "        color_name = item['colour']\n",
        "        color_idx = self.color_to_idx[color_name]\n",
        "\n",
        "        # Use the global number of colors (self.num_colors) for one-hot encoding\n",
        "        color_one_hot = torch.zeros(self.num_colors)\n",
        "        color_one_hot[color_idx] = 1\n",
        "\n",
        "        if self.transform:\n",
        "            input_image = self.transform(input_image)\n",
        "            output_image = self.transform(output_image)\n",
        "\n",
        "        return {\n",
        "            'input_image': input_image,\n",
        "            'color_vector': color_one_hot,\n",
        "            'target_image': output_image\n",
        "        }\n",
        "\n",
        "# --- Data Loading (CORRECTED) ---\n",
        "data_root_dir = \"/content/dataset/\"\n",
        "train_json_path = os.path.join(data_root_dir, 'training', 'data.json')\n",
        "val_json_path = os.path.join(data_root_dir, 'validation', 'data.json')\n",
        "\n",
        "image_transform = transforms.Compose([\n",
        "    transforms.Resize(config['image_size']),\n",
        "    transforms.ToTensor()\n",
        "])\n",
        "\n",
        "# First, create the training dataset to establish the canonical list of colors\n",
        "train_dataset = PolygonColoringDataset(\n",
        "    data_root=os.path.join(data_root_dir, 'training'),\n",
        "    json_file_path=train_json_path,\n",
        "    transform=image_transform\n",
        ")\n",
        "\n",
        "# Now, create the validation dataset and pass the color list from the training set\n",
        "val_dataset = PolygonColoringDataset(\n",
        "    data_root=os.path.join(data_root_dir, 'validation'),\n",
        "    json_file_path=val_json_path,\n",
        "    all_colors=sorted(list(train_dataset.color_to_idx.keys())),\n",
        "    transform=image_transform\n",
        ")\n",
        "\n",
        "train_loader = DataLoader(train_dataset, batch_size=config['batch_size'], shuffle=True)\n",
        "val_loader = DataLoader(val_dataset, batch_size=config['batch_size'], shuffle=False)\n",
        "\n",
        "# Update wandb config with the dynamically determined number of colors\n",
        "wandb.config.update({\"num_colors\": train_dataset.num_colors})\n",
        "\n",
        "print(f\"Number of training samples: {len(train_dataset)}\")\n",
        "print(f\"Number of validation samples: {len(val_dataset)}\")\n",
        "print(f\"Number of unique colors (from training data): {train_dataset.num_colors}\")"
      ],
      "metadata": {
        "colab": {
          "base_uri": "https://localhost:8080/"
        },
        "id": "1MKJLjeLQkmM",
        "outputId": "d0d1164a-3bbd-4897-dfb1-15b0babdc4c0"
      },
      "execution_count": 4,
      "outputs": [
        {
          "output_type": "stream",
          "name": "stdout",
          "text": [
            "Number of training samples: 56\n",
            "Number of validation samples: 5\n",
            "Number of unique colors (from training data): 8\n"
          ]
        }
      ]
    },
    {
      "cell_type": "code",
      "source": [
        "# --- UNet Model (with color conditioning) ---\n",
        "class DoubleConv(nn.Module):\n",
        "    def __init__(self, in_channels, out_channels):\n",
        "        super().__init__()\n",
        "        self.conv = nn.Sequential(\n",
        "            nn.Conv2d(in_channels, out_channels, kernel_size=3, padding=1, bias=False),\n",
        "            nn.BatchNorm2d(out_channels),\n",
        "            nn.ReLU(inplace=True),\n",
        "            nn.Conv2d(out_channels, out_channels, kernel_size=3, padding=1, bias=False),\n",
        "            nn.BatchNorm2d(out_channels),\n",
        "            nn.ReLU(inplace=True),\n",
        "        )\n",
        "    def forward(self, x):\n",
        "        return self.conv(x)\n",
        "\n",
        "class UNet(nn.Module):\n",
        "    def __init__(self, in_channels, out_channels, features, num_colors):\n",
        "        super().__init__()\n",
        "        self.ups = nn.ModuleList()\n",
        "        self.downs = nn.ModuleList()\n",
        "        self.pool = nn.MaxPool2d(kernel_size=2, stride=2)\n",
        "        self.num_colors = num_colors\n",
        "\n",
        "        # Encoder part\n",
        "        for feature in features:\n",
        "            self.downs.append(DoubleConv(in_channels, feature))\n",
        "            in_channels = feature\n",
        "\n",
        "        # Bottleneck\n",
        "        self.bottleneck = DoubleConv(features[-1], features[-1] * 2)\n",
        "\n",
        "        # Decoder part\n",
        "        for feature in reversed(features):\n",
        "            self.ups.append(\n",
        "                nn.ConvTranspose2d(\n",
        "                    feature * 2, feature, kernel_size=2, stride=2\n",
        "                )\n",
        "            )\n",
        "            self.ups.append(DoubleConv(feature * 2, feature))\n",
        "\n",
        "        # Final output layer\n",
        "        self.final_conv = nn.Conv2d(features[0], out_channels, kernel_size=1)\n",
        "\n",
        "        # Color embedding for conditional input\n",
        "        # This projects the one-hot color vector to a feature space\n",
        "        self.color_embedding = nn.Linear(self.num_colors, features[0])\n",
        "\n",
        "    def forward(self, image, color_vector):\n",
        "        skip_connections = []\n",
        "\n",
        "        # Encoder path\n",
        "        x = image\n",
        "        for down in self.downs:\n",
        "            x = down(x)\n",
        "            skip_connections.append(x)\n",
        "            x = self.pool(x)\n",
        "\n",
        "        x = self.bottleneck(x)\n",
        "        skip_connections = skip_connections[::-1] # Reverse the list for upsampling\n",
        "\n",
        "        # Decoder path\n",
        "        for idx in range(0, len(self.ups), 2):\n",
        "            x = self.ups[idx](x)\n",
        "            skip_connection = skip_connections[idx // 2]\n",
        "\n",
        "            # Ensure spatial dimensions match for concatenation\n",
        "            if x.shape != skip_connection.shape:\n",
        "                x = transforms.functional.resize(x, size=skip_connection.shape[2:])\n",
        "\n",
        "            concat_skip = torch.cat((skip_connection, x), dim=1)\n",
        "            x = self.ups[idx + 1](concat_skip)\n",
        "\n",
        "        # A simple fusion strategy: inject the color embedding into the final feature map\n",
        "        color_emb = self.color_embedding(color_vector)\n",
        "        color_emb = color_emb.view(color_emb.size(0), -1, 1, 1).expand(-1, -1, x.size(2), x.size(3))\n",
        "        x = x + color_emb\n",
        "\n",
        "        return self.final_conv(x)\n",
        "\n",
        "# Instantiate the model and move it to the configured device (GPU if available)\n",
        "model = UNet(\n",
        "    in_channels=config['in_channels'],\n",
        "    out_channels=config['out_channels'],\n",
        "    features=config['features'],\n",
        "    num_colors=wandb.config.num_colors\n",
        ").to(config['device'])"
      ],
      "metadata": {
        "id": "JEOuwDriQwee"
      },
      "execution_count": 5,
      "outputs": []
    },
    {
      "cell_type": "code",
      "source": [
        "# --- Training Loop (Corrected for NameError) ---\n",
        "criterion = nn.MSELoss()\n",
        "optimizer = optim.Adam(model.parameters(), lr=wandb.config.learning_rate)\n",
        "\n",
        "# Optional: Add a learning rate scheduler\n",
        "# scheduler = torch.optim.lr_scheduler.ReduceLROnPlateau(optimizer, mode='min', factor=0.1, patience=5)\n",
        "\n",
        "print(\"Starting training...\")\n",
        "\n",
        "# Define the number of epochs here\n",
        "num_epochs = 50\n",
        "\n",
        "for epoch in range(num_epochs):\n",
        "    # --- Training Phase ---\n",
        "    model.train()\n",
        "    running_train_loss = 0.0\n",
        "    running_train_accuracy = 0.0\n",
        "\n",
        "    for batch in train_loader:\n",
        "        input_image = batch['input_image'].to(wandb.config.device)\n",
        "        color_vector = batch['color_vector'].to(wandb.config.device)\n",
        "        target_image = batch['target_image'].to(wandb.config.device)\n",
        "\n",
        "        optimizer.zero_grad()\n",
        "        outputs = model(input_image, color_vector)\n",
        "        loss = criterion(outputs, target_image)\n",
        "        loss.backward()\n",
        "        optimizer.step()\n",
        "\n",
        "        running_train_loss += loss.item() * input_image.size(0)\n",
        "\n",
        "        thresholded_outputs = (outputs > 0.05).float()\n",
        "        thresholded_targets = (target_image > 0.05).float()\n",
        "        correct_pixels = (thresholded_outputs == thresholded_targets).sum().item()\n",
        "        total_pixels = torch.numel(target_image)\n",
        "        batch_accuracy = correct_pixels / total_pixels\n",
        "        running_train_accuracy += batch_accuracy * input_image.size(0) # <-- Corrected line\n",
        "\n",
        "    # --- Validation Phase ---\n",
        "    model.eval()\n",
        "    running_val_loss = 0.0\n",
        "    running_val_accuracy = 0.0\n",
        "\n",
        "    with torch.no_grad():\n",
        "        for i, batch in enumerate(val_loader):\n",
        "            input_image = batch['input_image'].to(wandb.config.device)\n",
        "            color_vector = batch['color_vector'].to(wandb.config.device)\n",
        "            target_image = batch['target_image'].to(wandb.config.device)\n",
        "\n",
        "            outputs = model(input_image, color_vector)\n",
        "            loss = criterion(outputs, target_image)\n",
        "            running_val_loss += loss.item() * input_image.size(0)\n",
        "\n",
        "            thresholded_outputs = (outputs > 0.05).float()\n",
        "            thresholded_targets = (target_image > 0.05).float()\n",
        "            correct_pixels = (thresholded_outputs == thresholded_targets).sum().item()\n",
        "            total_pixels = torch.numel(target_image)\n",
        "            batch_accuracy = correct_pixels / total_pixels\n",
        "            running_val_accuracy += batch_accuracy * input_image.size(0) # <-- Corrected line\n",
        "\n",
        "            # --- ENHANCED W&B IMAGE LOGGING ---\n",
        "            if i == 0 and (epoch + 1) % 10 == 0:\n",
        "                logged_image_gallery = []\n",
        "                for j in range(min(4, input_image.shape[0])):\n",
        "                    img_in = input_image[j]\n",
        "                    raw_pred = outputs[j]\n",
        "\n",
        "                    sharpened_pred = (raw_pred > 0.5).float()\n",
        "\n",
        "                    final_pred = torch.clamp(raw_pred, 0, 1)\n",
        "\n",
        "                    img_gt = target_image[j]\n",
        "\n",
        "                    combined_image = torch.cat([img_in, raw_pred, sharpened_pred, final_pred, img_gt], dim=2)\n",
        "\n",
        "                    logged_image_gallery.append(\n",
        "                        wandb.Image(\n",
        "                            combined_image,\n",
        "                            caption=f\"Sample {j+1}: Input | Raw | Sharpened (Binarized) | Final (Clamped) | Ground Truth\"\n",
        "                        )\n",
        "                    )\n",
        "                wandb.log({\"Validation Predictions Gallery\": logged_image_gallery})\n",
        "\n",
        "    # Calculate average metrics for the epoch\n",
        "    epoch_train_loss = running_train_loss / len(train_loader.dataset)\n",
        "    epoch_train_accuracy = running_train_accuracy / len(train_loader.dataset)\n",
        "    epoch_val_loss = running_val_loss / len(val_loader.dataset)\n",
        "    epoch_val_accuracy = running_val_accuracy / len(val_loader.dataset)\n",
        "\n",
        "    # scheduler.step(epoch_val_loss)\n",
        "\n",
        "    print(f\"Epoch [{epoch+1}/{num_epochs}] | Train Loss: {epoch_train_loss:.4f} | Train Acc: {epoch_train_accuracy:.4f} | Val Loss: {epoch_val_loss:.4f} | Val Acc: {epoch_val_accuracy:.4f}\")\n",
        "\n",
        "    wandb.log({\n",
        "        \"train_loss\": epoch_train_loss,\n",
        "        \"train_accuracy\": epoch_train_accuracy,\n",
        "        \"val_loss\": epoch_val_loss,\n",
        "        \"val_accuracy\": epoch_val_accuracy,\n",
        "        \"epoch\": epoch\n",
        "    })\n",
        "\n",
        "# Save the final model weights\n",
        "torch.save(model.state_dict(), \"unet_polygon_coloring.pth\")\n",
        "\n",
        "# Finish the wandb run\n",
        "wandb.finish()"
      ],
      "metadata": {
        "colab": {
          "base_uri": "https://localhost:8080/",
          "height": 1000
        },
        "id": "2WLoaQhaQ0eX",
        "outputId": "9dc6090d-1684-4f57-9296-b46d9da3667f"
      },
      "execution_count": 6,
      "outputs": [
        {
          "output_type": "stream",
          "name": "stdout",
          "text": [
            "Starting training...\n",
            "Epoch [1/50] | Train Loss: 1.1227 | Train Acc: 0.3547 | Val Loss: 1.0762 | Val Acc: 0.2596\n",
            "Epoch [2/50] | Train Loss: 0.8152 | Train Acc: 0.5874 | Val Loss: 0.9857 | Val Acc: 0.3263\n",
            "Epoch [3/50] | Train Loss: 0.6241 | Train Acc: 0.7852 | Val Loss: 0.8510 | Val Acc: 0.4249\n",
            "Epoch [4/50] | Train Loss: 0.4793 | Train Acc: 0.8519 | Val Loss: 0.7060 | Val Acc: 0.7288\n",
            "Epoch [5/50] | Train Loss: 0.3642 | Train Acc: 0.8728 | Val Loss: 0.5559 | Val Acc: 0.8252\n",
            "Epoch [6/50] | Train Loss: 0.2847 | Train Acc: 0.8823 | Val Loss: 0.4301 | Val Acc: 0.9336\n",
            "Epoch [7/50] | Train Loss: 0.2224 | Train Acc: 0.8916 | Val Loss: 0.3296 | Val Acc: 0.9346\n",
            "Epoch [8/50] | Train Loss: 0.1783 | Train Acc: 0.9038 | Val Loss: 0.2537 | Val Acc: 0.9346\n",
            "Epoch [9/50] | Train Loss: 0.1353 | Train Acc: 0.9081 | Val Loss: 0.1952 | Val Acc: 0.9352\n"
          ]
        },
        {
          "output_type": "stream",
          "name": "stderr",
          "text": [
            "\u001b[34m\u001b[1mwandb\u001b[0m: \u001b[33mWARNING\u001b[0m Data passed to `wandb.Image` should consist of values in the range [0, 255], image data will be normalized to this range, but behavior will be removed in a future version of wandb.\n"
          ]
        },
        {
          "output_type": "stream",
          "name": "stdout",
          "text": [
            "Epoch [10/50] | Train Loss: 0.1093 | Train Acc: 0.9091 | Val Loss: 0.1559 | Val Acc: 0.9351\n",
            "Epoch [11/50] | Train Loss: 0.0870 | Train Acc: 0.9084 | Val Loss: 0.1310 | Val Acc: 0.9353\n",
            "Epoch [12/50] | Train Loss: 0.0740 | Train Acc: 0.9084 | Val Loss: 0.1118 | Val Acc: 0.9351\n",
            "Epoch [13/50] | Train Loss: 0.0650 | Train Acc: 0.9085 | Val Loss: 0.1004 | Val Acc: 0.9352\n",
            "Epoch [14/50] | Train Loss: 0.0584 | Train Acc: 0.9083 | Val Loss: 0.0983 | Val Acc: 0.9339\n",
            "Epoch [15/50] | Train Loss: 0.0569 | Train Acc: 0.9083 | Val Loss: 0.1197 | Val Acc: 0.9331\n",
            "Epoch [16/50] | Train Loss: 0.0562 | Train Acc: 0.9084 | Val Loss: 0.1020 | Val Acc: 0.9325\n",
            "Epoch [17/50] | Train Loss: 0.0547 | Train Acc: 0.9084 | Val Loss: 0.0988 | Val Acc: 0.9326\n",
            "Epoch [18/50] | Train Loss: 0.0543 | Train Acc: 0.9084 | Val Loss: 0.1054 | Val Acc: 0.9331\n",
            "Epoch [19/50] | Train Loss: 0.0538 | Train Acc: 0.9084 | Val Loss: 0.0918 | Val Acc: 0.9335\n",
            "Epoch [20/50] | Train Loss: 0.0530 | Train Acc: 0.9084 | Val Loss: 0.0749 | Val Acc: 0.9338\n",
            "Epoch [21/50] | Train Loss: 0.0509 | Train Acc: 0.9084 | Val Loss: 0.0685 | Val Acc: 0.9333\n",
            "Epoch [22/50] | Train Loss: 0.0496 | Train Acc: 0.9084 | Val Loss: 0.0665 | Val Acc: 0.9336\n",
            "Epoch [23/50] | Train Loss: 0.0486 | Train Acc: 0.9084 | Val Loss: 0.0557 | Val Acc: 0.9337\n",
            "Epoch [24/50] | Train Loss: 0.0473 | Train Acc: 0.9084 | Val Loss: 0.0513 | Val Acc: 0.9342\n",
            "Epoch [25/50] | Train Loss: 0.0469 | Train Acc: 0.9084 | Val Loss: 0.0452 | Val Acc: 0.9344\n",
            "Epoch [26/50] | Train Loss: 0.0455 | Train Acc: 0.9084 | Val Loss: 0.0421 | Val Acc: 0.9343\n",
            "Epoch [27/50] | Train Loss: 0.0462 | Train Acc: 0.9084 | Val Loss: 0.0407 | Val Acc: 0.9344\n",
            "Epoch [28/50] | Train Loss: 0.0440 | Train Acc: 0.9084 | Val Loss: 0.0391 | Val Acc: 0.9343\n",
            "Epoch [29/50] | Train Loss: 0.0432 | Train Acc: 0.9084 | Val Loss: 0.0376 | Val Acc: 0.9343\n",
            "Epoch [30/50] | Train Loss: 0.0428 | Train Acc: 0.9084 | Val Loss: 0.0367 | Val Acc: 0.9343\n",
            "Epoch [31/50] | Train Loss: 0.0420 | Train Acc: 0.9084 | Val Loss: 0.0356 | Val Acc: 0.9343\n",
            "Epoch [32/50] | Train Loss: 0.0417 | Train Acc: 0.9084 | Val Loss: 0.0349 | Val Acc: 0.9343\n",
            "Epoch [33/50] | Train Loss: 0.0411 | Train Acc: 0.9084 | Val Loss: 0.0349 | Val Acc: 0.9343\n",
            "Epoch [34/50] | Train Loss: 0.0409 | Train Acc: 0.9084 | Val Loss: 0.0350 | Val Acc: 0.9343\n",
            "Epoch [35/50] | Train Loss: 0.0401 | Train Acc: 0.9084 | Val Loss: 0.0354 | Val Acc: 0.9343\n",
            "Epoch [36/50] | Train Loss: 0.0401 | Train Acc: 0.9084 | Val Loss: 0.0352 | Val Acc: 0.9343\n",
            "Epoch [37/50] | Train Loss: 0.0400 | Train Acc: 0.9084 | Val Loss: 0.0343 | Val Acc: 0.9343\n",
            "Epoch [38/50] | Train Loss: 0.0396 | Train Acc: 0.9084 | Val Loss: 0.0339 | Val Acc: 0.9343\n",
            "Epoch [39/50] | Train Loss: 0.0388 | Train Acc: 0.9084 | Val Loss: 0.0343 | Val Acc: 0.9343\n",
            "Epoch [40/50] | Train Loss: 0.0390 | Train Acc: 0.9084 | Val Loss: 0.0336 | Val Acc: 0.9343\n",
            "Epoch [41/50] | Train Loss: 0.0382 | Train Acc: 0.9084 | Val Loss: 0.0336 | Val Acc: 0.9343\n",
            "Epoch [42/50] | Train Loss: 0.0385 | Train Acc: 0.9084 | Val Loss: 0.0330 | Val Acc: 0.9343\n",
            "Epoch [43/50] | Train Loss: 0.0374 | Train Acc: 0.9084 | Val Loss: 0.0334 | Val Acc: 0.9343\n",
            "Epoch [44/50] | Train Loss: 0.0376 | Train Acc: 0.9084 | Val Loss: 0.0336 | Val Acc: 0.9343\n",
            "Epoch [45/50] | Train Loss: 0.0377 | Train Acc: 0.9084 | Val Loss: 0.0333 | Val Acc: 0.9343\n",
            "Epoch [46/50] | Train Loss: 0.0372 | Train Acc: 0.9084 | Val Loss: 0.0335 | Val Acc: 0.9343\n",
            "Epoch [47/50] | Train Loss: 0.0372 | Train Acc: 0.9084 | Val Loss: 0.0331 | Val Acc: 0.9343\n",
            "Epoch [48/50] | Train Loss: 0.0369 | Train Acc: 0.9084 | Val Loss: 0.0325 | Val Acc: 0.9343\n",
            "Epoch [49/50] | Train Loss: 0.0372 | Train Acc: 0.9084 | Val Loss: 0.0323 | Val Acc: 0.9343\n",
            "Epoch [50/50] | Train Loss: 0.0361 | Train Acc: 0.9084 | Val Loss: 0.0327 | Val Acc: 0.9343\n"
          ]
        },
        {
          "output_type": "display_data",
          "data": {
            "text/plain": [
              "<IPython.core.display.HTML object>"
            ],
            "text/html": []
          },
          "metadata": {}
        },
        {
          "output_type": "display_data",
          "data": {
            "text/plain": [
              "<IPython.core.display.HTML object>"
            ],
            "text/html": [
              "<br>    <style><br>        .wandb-row {<br>            display: flex;<br>            flex-direction: row;<br>            flex-wrap: wrap;<br>            justify-content: flex-start;<br>            width: 100%;<br>        }<br>        .wandb-col {<br>            display: flex;<br>            flex-direction: column;<br>            flex-basis: 100%;<br>            flex: 1;<br>            padding: 10px;<br>        }<br>    </style><br><div class=\"wandb-row\"><div class=\"wandb-col\"><h3>Run history:</h3><br/><table class=\"wandb\"><tr><td>epoch</td><td>▁▁▁▁▂▂▂▂▂▃▃▃▃▃▃▄▄▄▄▄▅▅▅▅▅▅▆▆▆▆▆▆▇▇▇▇▇███</td></tr><tr><td>train_accuracy</td><td>▁▄▆▇████████████████████████████████████</td></tr><tr><td>train_loss</td><td>█▆▅▄▃▂▂▂▁▁▁▁▁▁▁▁▁▁▁▁▁▁▁▁▁▁▁▁▁▁▁▁▁▁▁▁▁▁▁▁</td></tr><tr><td>val_accuracy</td><td>▁▂▃▆▇███████████████████████████████████</td></tr><tr><td>val_loss</td><td>█▇▆▅▄▃▂▂▂▂▁▂▂▁▁▁▁▁▁▁▁▁▁▁▁▁▁▁▁▁▁▁▁▁▁▁▁▁▁▁</td></tr></table><br/></div><div class=\"wandb-col\"><h3>Run summary:</h3><br/><table class=\"wandb\"><tr><td>epoch</td><td>49</td></tr><tr><td>train_accuracy</td><td>0.90837</td></tr><tr><td>train_loss</td><td>0.03613</td></tr><tr><td>val_accuracy</td><td>0.93427</td></tr><tr><td>val_loss</td><td>0.03267</td></tr></table><br/></div></div>"
            ]
          },
          "metadata": {}
        },
        {
          "output_type": "display_data",
          "data": {
            "text/plain": [
              "<IPython.core.display.HTML object>"
            ],
            "text/html": [
              " View run <strong style=\"color:#cdcd00\">silvery-lake-1</strong> at: <a href='https://wandb.ai/ajaytelukutla4583-vignan-s-university/polygon-coloring-unet/runs/p4ja9843' target=\"_blank\">https://wandb.ai/ajaytelukutla4583-vignan-s-university/polygon-coloring-unet/runs/p4ja9843</a><br> View project at: <a href='https://wandb.ai/ajaytelukutla4583-vignan-s-university/polygon-coloring-unet' target=\"_blank\">https://wandb.ai/ajaytelukutla4583-vignan-s-university/polygon-coloring-unet</a><br>Synced 5 W&B file(s), 20 media file(s), 0 artifact file(s) and 0 other file(s)"
            ]
          },
          "metadata": {}
        },
        {
          "output_type": "display_data",
          "data": {
            "text/plain": [
              "<IPython.core.display.HTML object>"
            ],
            "text/html": [
              "Find logs at: <code>./wandb/run-20250805_172258-p4ja9843/logs</code>"
            ]
          },
          "metadata": {}
        }
      ]
    },
    {
      "cell_type": "code",
      "source": [
        "def force_to_closest_color(tensor, color_palette):\n",
        "    \"\"\"\n",
        "    Snap each pixel to the nearest color in the palette.\n",
        "    Args:\n",
        "        tensor: torch.Tensor of shape (3, H, W)\n",
        "        color_palette: list of RGB color triplets in [0, 1] range\n",
        "    Returns:\n",
        "        Tensor with pixels snapped to closest palette color\n",
        "    \"\"\"\n",
        "    H, W = tensor.shape[1], tensor.shape[2]\n",
        "    flattened = tensor.view(3, -1).permute(1, 0)  # shape: (H*W, 3)\n",
        "\n",
        "    # Convert palette to tensor\n",
        "    palette_tensor = torch.tensor(color_palette).to(tensor.device)  # shape: (num_colors, 3)\n",
        "\n",
        "    # Compute distances\n",
        "    dists = ((flattened[:, None, :] - palette_tensor[None, :, :]) ** 2).sum(dim=2)  # (H*W, num_colors)\n",
        "    closest = dists.argmin(dim=1)  # index of closest color\n",
        "\n",
        "    # Assign closest color\n",
        "    snapped = palette_tensor[closest]  # shape: (H*W, 3)\n",
        "    return snapped.permute(1, 0).view(3, H, W)\n"
      ],
      "metadata": {
        "id": "EsrS_YldRXdR"
      },
      "execution_count": 8,
      "outputs": []
    },
    {
      "cell_type": "code",
      "source": [
        "# --- Inference Script for UNet Polygon Coloring ---\n",
        "def infer(model, image_path, color_name, all_colors, image_size, device):\n",
        "    \"\"\"Run inference on a given image and color with postprocessing.\"\"\"\n",
        "    # Load and preprocess input image\n",
        "    image = Image.open(image_path).convert('RGB')\n",
        "    transform = transforms.Compose([\n",
        "        transforms.Resize(image_size),\n",
        "        transforms.ToTensor()\n",
        "    ])\n",
        "    image_tensor = transform(image).unsqueeze(0).to(device)\n",
        "\n",
        "    # Encode target color\n",
        "    color_to_idx = {color: idx for idx, color in enumerate(all_colors)}\n",
        "    color_idx = color_to_idx[color_name]\n",
        "    one_hot = torch.zeros(len(all_colors), device=device)\n",
        "    one_hot[color_idx] = 1\n",
        "    color_vector = one_hot.unsqueeze(0)  # shape: (1, num_colors)\n",
        "\n",
        "    # Inference\n",
        "    with torch.no_grad():\n",
        "        output = model(image_tensor, color_vector)  # shape: (1, 3, H, W)\n",
        "        output = torch.clamp(output, 0, 1)  # ensure pixel values in [0, 1]\n",
        "\n",
        "        # Create mask of colored region (non-background)\n",
        "        mask = (output > 0.1).float()  # threshold for keeping polygon color\n",
        "        white_bg = torch.ones_like(output)  # white background\n",
        "\n",
        "        # Apply mask: keep polygon color, replace rest with white\n",
        "        output_cleaned = output * mask + white_bg * (1 - mask)\n",
        "\n",
        "        # Optional: smoothen polygon edges (anti-aliasing)\n",
        "        from torchvision.transforms.functional import gaussian_blur\n",
        "        output_cleaned = gaussian_blur(output_cleaned, kernel_size=3)\n",
        "\n",
        "    # Convert to PIL image for visualization\n",
        "    output_image = transforms.ToPILImage()(output_cleaned.squeeze(0).cpu())\n",
        "\n",
        "    return image, output_image\n",
        "\n",
        "\n",
        "# --- Example Usage ---\n",
        "polygon_path = \"/content/dataset/validation/inputs/star.png\"\n",
        "target_color = \"yellow\"\n",
        "all_colors = sorted(train_dataset.color_to_idx.keys())\n",
        "\n",
        "input_img, output_img = infer(\n",
        "    model=model,\n",
        "    image_path=polygon_path,\n",
        "    color_name=target_color,\n",
        "    all_colors=all_colors,\n",
        "    image_size=config['image_size'],\n",
        "    device=config['device']\n",
        ")\n",
        "\n",
        "display_results(\n",
        "    input_img=input_img,\n",
        "    output_img=output_img,\n",
        "    input_title=f\"Input: {os.path.basename(polygon_path)}\",\n",
        "    output_title=f\"Generated: '{target_color}'\"\n",
        ")\n"
      ],
      "metadata": {
        "colab": {
          "base_uri": "https://localhost:8080/",
          "height": 626
        },
        "id": "5sSDvgRMRMrK",
        "outputId": "97fc6015-2a10-48ae-cb1a-dcf1dee24f64"
      },
      "execution_count": 14,
      "outputs": [
        {
          "output_type": "display_data",
          "data": {
            "text/plain": [
              "<Figure size 1200x600 with 2 Axes>"
            ],
            "image/png": "[encoded data removed]"
          },
          "metadata": {}
        }
      ]
    },
    {
      "cell_type": "code",
      "metadata": {
        "id": "abd23618"
      },
      "source": [
        "import matplotlib.pyplot as plt\n",
        "\n",
        "def display_results(input_img, output_img, input_title=\"Input Image\", output_title=\"Output Image\"):\n",
        "    \"\"\"Helper function to display input and output images.\"\"\"\n",
        "    fig, axes = plt.subplots(1, 2, figsize=(12, 6))\n",
        "\n",
        "    axes[0].imshow(input_img)\n",
        "    axes[0].set_title(input_title)\n",
        "    axes[0].axis('off')\n",
        "\n",
        "    axes[1].imshow(output_img)\n",
        "    axes[1].set_title(output_title)\n",
        "    axes[1].axis('off')\n",
        "\n",
        "    plt.tight_layout()\n",
        "    plt.show()"
      ],
      "execution_count": 11,
      "outputs": []
    }
  ]
}